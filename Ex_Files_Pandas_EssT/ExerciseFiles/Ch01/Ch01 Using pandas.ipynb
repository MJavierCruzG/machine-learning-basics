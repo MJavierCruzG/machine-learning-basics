{
 "cells": [
  {
   "cell_type": "markdown",
   "metadata": {},
   "source": [
    "# Using Pandas"
   ]
  },
  {
   "cell_type": "markdown",
   "metadata": {},
   "source": [
    "## Importing pandas"
   ]
  },
  {
   "cell_type": "code",
   "execution_count": 12,
   "metadata": {},
   "outputs": [],
   "source": [
    "import pandas\n",
    "import numpy as np"
   ]
  },
  {
   "cell_type": "code",
   "execution_count": 2,
   "metadata": {
    "scrolled": true
   },
   "outputs": [
    {
     "data": {
      "text/plain": [
       "'0.23.0'"
      ]
     },
     "execution_count": 2,
     "metadata": {},
     "output_type": "execute_result"
    }
   ],
   "source": [
    "pandas.__version__"
   ]
  },
  {
   "cell_type": "code",
   "execution_count": 3,
   "metadata": {},
   "outputs": [],
   "source": [
    "import pandas as pd"
   ]
  },
  {
   "cell_type": "code",
   "execution_count": 4,
   "metadata": {},
   "outputs": [
    {
     "data": {
      "text/plain": [
       "'0.23.0'"
      ]
     },
     "execution_count": 4,
     "metadata": {},
     "output_type": "execute_result"
    }
   ],
   "source": [
    "pd.__version__"
   ]
  },
  {
   "cell_type": "markdown",
   "metadata": {},
   "source": [
    "## Pandas documentation"
   ]
  },
  {
   "cell_type": "code",
   "execution_count": 8,
   "metadata": {},
   "outputs": [
    {
     "name": "stdout",
     "output_type": "stream",
     "text": [
      "\n",
      "INSTALLED VERSIONS\n",
      "------------------\n",
      "commit: None\n",
      "\n",
      "pandas: 0.23.0\n",
      "pytest: 3.5.1\n",
      "pip: 10.0.1\n",
      "setuptools: 39.1.0\n",
      "Cython: 0.28.2\n",
      "numpy: 1.14.3\n",
      "scipy: 1.1.0\n",
      "pyarrow: None\n",
      "xarray: None\n",
      "IPython: 6.4.0\n",
      "sphinx: 1.7.4\n",
      "patsy: 0.5.0\n",
      "dateutil: 2.7.3\n",
      "pytz: 2018.4\n",
      "blosc: None\n",
      "bottleneck: 1.2.1\n",
      "tables: 3.4.3\n",
      "numexpr: 2.6.5\n",
      "feather: None\n",
      "matplotlib: 2.2.2\n",
      "openpyxl: 2.5.3\n",
      "xlrd: 1.1.0\n",
      "xlwt: 1.2.0\n",
      "xlsxwriter: 1.0.4\n",
      "lxml: 4.2.1\n",
      "bs4: 4.6.0\n",
      "html5lib: 1.0.1\n",
      "sqlalchemy: 1.2.7\n",
      "pymysql: None\n",
      "psycopg2: None\n",
      "jinja2: 2.10\n",
      "s3fs: None\n",
      "fastparquet: None\n",
      "pandas_gbq: None\n",
      "pandas_datareader: None\n"
     ]
    }
   ],
   "source": [
    "pd.show_versions()"
   ]
  },
  {
   "cell_type": "code",
   "execution_count": 11,
   "metadata": {},
   "outputs": [],
   "source": [
    "pd.show_versions?"
   ]
  },
  {
   "cell_type": "code",
   "execution_count": 10,
   "metadata": {},
   "outputs": [],
   "source": [
    "pd.read_csv?"
   ]
  },
  {
   "cell_type": "code",
   "execution_count": 13,
   "metadata": {},
   "outputs": [],
   "source": [
    "np.arange?"
   ]
  },
  {
   "cell_type": "code",
   "execution_count": 14,
   "metadata": {},
   "outputs": [
    {
     "data": {
      "text/plain": [
       "<module 'pandas' from '/Users/arugupta/anaconda3/lib/python3.6/site-packages/pandas/__init__.py'>"
      ]
     },
     "execution_count": 14,
     "metadata": {},
     "output_type": "execute_result"
    }
   ],
   "source": [
    "pandas\n"
   ]
  },
  {
   "cell_type": "code",
   "execution_count": 15,
   "metadata": {},
   "outputs": [
    {
     "data": {
      "text/plain": [
       "<module 'numpy' from '/Users/arugupta/anaconda3/lib/python3.6/site-packages/numpy/__init__.py'>"
      ]
     },
     "execution_count": 15,
     "metadata": {},
     "output_type": "execute_result"
    }
   ],
   "source": [
    "np\n"
   ]
  },
  {
   "cell_type": "code",
   "execution_count": 16,
   "metadata": {},
   "outputs": [
    {
     "ename": "AttributeError",
     "evalue": "module 'pandas' has no attribute 'get_versions'",
     "output_type": "error",
     "traceback": [
      "\u001b[0;31m---------------------------------------------------------------------------\u001b[0m",
      "\u001b[0;31mAttributeError\u001b[0m                            Traceback (most recent call last)",
      "\u001b[0;32m<ipython-input-16-4399134eab82>\u001b[0m in \u001b[0;36m<module>\u001b[0;34m()\u001b[0m\n\u001b[0;32m----> 1\u001b[0;31m \u001b[0mpandas\u001b[0m\u001b[0;34m.\u001b[0m\u001b[0mget_versions\u001b[0m\u001b[0;34m(\u001b[0m\u001b[0;34m)\u001b[0m\u001b[0;34m\u001b[0m\u001b[0m\n\u001b[0m",
      "\u001b[0;31mAttributeError\u001b[0m: module 'pandas' has no attribute 'get_versions'"
     ]
    }
   ],
   "source": [
    "pandas.get_versions()"
   ]
  },
  {
   "cell_type": "code",
   "execution_count": 17,
   "metadata": {},
   "outputs": [
    {
     "data": {
      "text/plain": [
       "'\\npandas - a powerful data analysis and manipulation library for Python\\n=====================================================================\\n\\n**pandas** is a Python package providing fast, flexible, and expressive data\\nstructures designed to make working with \"relational\" or \"labeled\" data both\\neasy and intuitive. It aims to be the fundamental high-level building block for\\ndoing practical, **real world** data analysis in Python. Additionally, it has\\nthe broader goal of becoming **the most powerful and flexible open source data\\nanalysis / manipulation tool available in any language**. It is already well on\\nits way toward this goal.\\n\\nMain Features\\n-------------\\nHere are just a few of the things that pandas does well:\\n\\n  - Easy handling of missing data in floating point as well as non-floating\\n    point data.\\n  - Size mutability: columns can be inserted and deleted from DataFrame and\\n    higher dimensional objects\\n  - Automatic and explicit data alignment: objects can be explicitly aligned\\n    to a set of labels, or the user can simply ignore the labels and let\\n    `Series`, `DataFrame`, etc. automatically align the data for you in\\n    computations.\\n  - Powerful, flexible group by functionality to perform split-apply-combine\\n    operations on data sets, for both aggregating and transforming data.\\n  - Make it easy to convert ragged, differently-indexed data in other Python\\n    and NumPy data structures into DataFrame objects.\\n  - Intelligent label-based slicing, fancy indexing, and subsetting of large\\n    data sets.\\n  - Intuitive merging and joining data sets.\\n  - Flexible reshaping and pivoting of data sets.\\n  - Hierarchical labeling of axes (possible to have multiple labels per tick).\\n  - Robust IO tools for loading data from flat files (CSV and delimited),\\n    Excel files, databases, and saving/loading data from the ultrafast HDF5\\n    format.\\n  - Time series-specific functionality: date range generation and frequency\\n    conversion, moving window statistics, moving window linear regressions,\\n    date shifting and lagging, etc.\\n'"
      ]
     },
     "execution_count": 17,
     "metadata": {},
     "output_type": "execute_result"
    }
   ],
   "source": [
    "pandas.__doc__\n"
   ]
  },
  {
   "cell_type": "code",
   "execution_count": null,
   "metadata": {},
   "outputs": [],
   "source": []
  }
 ],
 "metadata": {
  "kernelspec": {
   "display_name": "Python 3",
   "language": "python",
   "name": "python3"
  },
  "language_info": {
   "codemirror_mode": {
    "name": "ipython",
    "version": 3
   },
   "file_extension": ".py",
   "mimetype": "text/x-python",
   "name": "python",
   "nbconvert_exporter": "python",
   "pygments_lexer": "ipython3",
   "version": "3.6.5"
  }
 },
 "nbformat": 4,
 "nbformat_minor": 1
}
