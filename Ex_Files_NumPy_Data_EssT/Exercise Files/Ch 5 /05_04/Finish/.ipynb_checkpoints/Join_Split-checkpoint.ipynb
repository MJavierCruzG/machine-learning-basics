{
 "cells": [
  {
   "cell_type": "markdown",
   "metadata": {},
   "source": [
    "# Joining and Splitting arrays\n",
    "- concatenate\n",
    "- stack\n",
    "- split"
   ]
  },
  {
   "cell_type": "code",
   "execution_count": 153,
   "metadata": {},
   "outputs": [],
   "source": [
    "import numpy as np"
   ]
  },
  {
   "cell_type": "markdown",
   "metadata": {},
   "source": [
    "### concatenate\n",
    "documentation: http://docs.scipy.org/doc/numpy/reference/generated/numpy.concatenate.html"
   ]
  },
  {
   "cell_type": "code",
   "execution_count": 154,
   "metadata": {},
   "outputs": [
    {
     "data": {
      "text/plain": [
       "array([[1, 2],\n",
       "       [3, 4]])"
      ]
     },
     "execution_count": 154,
     "metadata": {},
     "output_type": "execute_result"
    }
   ],
   "source": [
    "a = np.array([[1, 2], [3, 4]])\n",
    "b = np.array([[5, 6]])\n",
    "a"
   ]
  },
  {
   "cell_type": "code",
   "execution_count": 155,
   "metadata": {},
   "outputs": [
    {
     "data": {
      "text/plain": [
       "array([[1, 2],\n",
       "       [3, 4],\n",
       "       [5, 6]])"
      ]
     },
     "execution_count": 155,
     "metadata": {},
     "output_type": "execute_result"
    }
   ],
   "source": [
    "together = np.concatenate((a, b), axis=0)\n",
    "together"
   ]
  },
  {
   "cell_type": "code",
   "execution_count": 156,
   "metadata": {},
   "outputs": [
    {
     "data": {
      "text/plain": [
       "(3, 2)"
      ]
     },
     "execution_count": 156,
     "metadata": {},
     "output_type": "execute_result"
    }
   ],
   "source": [
    "together.shape"
   ]
  },
  {
   "cell_type": "code",
   "execution_count": 157,
   "metadata": {},
   "outputs": [
    {
     "data": {
      "text/plain": [
       "array([[  1,   2],\n",
       "       [  3, 555],\n",
       "       [  5,   6]])"
      ]
     },
     "execution_count": 157,
     "metadata": {},
     "output_type": "execute_result"
    }
   ],
   "source": [
    "together[1,1] = 555\n",
    "together"
   ]
  },
  {
   "cell_type": "code",
   "execution_count": 158,
   "metadata": {},
   "outputs": [
    {
     "data": {
      "text/plain": [
       "array([[1, 2],\n",
       "       [3, 4]])"
      ]
     },
     "execution_count": 158,
     "metadata": {},
     "output_type": "execute_result"
    }
   ],
   "source": [
    "a"
   ]
  },
  {
   "cell_type": "code",
   "execution_count": 159,
   "metadata": {},
   "outputs": [
    {
     "data": {
      "text/plain": [
       "array([[ 8, 11],\n",
       "       [14, 17]])"
      ]
     },
     "execution_count": 159,
     "metadata": {},
     "output_type": "execute_result"
    }
   ],
   "source": [
    "c = np.array([[1, 2], [3, 4]]) *3 + 5\n",
    "c"
   ]
  },
  {
   "cell_type": "code",
   "execution_count": 160,
   "metadata": {},
   "outputs": [
    {
     "data": {
      "text/plain": [
       "array([[ 1,  2,  8, 11],\n",
       "       [ 3,  4, 14, 17]])"
      ]
     },
     "execution_count": 160,
     "metadata": {},
     "output_type": "execute_result"
    }
   ],
   "source": [
    "np.concatenate((a, c), axis=1)"
   ]
  },
  {
   "cell_type": "markdown",
   "metadata": {},
   "source": [
    "### stack"
   ]
  },
  {
   "cell_type": "code",
   "execution_count": 161,
   "metadata": {},
   "outputs": [
    {
     "data": {
      "text/plain": [
       "array([[[ 0.20629574, -1.38424221,  0.45991419, -1.03931008],\n",
       "        [-0.42798272,  0.33497884, -0.46113162, -1.91886766],\n",
       "        [-0.33169054,  0.52519294,  0.1042941 ,  0.26980563]],\n",
       "\n",
       "       [[-0.35385861, -0.08257523,  0.17552266, -1.68294582],\n",
       "        [-0.60012355, -0.71296238, -1.66275406,  0.10302332],\n",
       "        [ 0.93668139,  1.91238578,  0.47020143,  0.87669325]],\n",
       "\n",
       "       [[-1.76481268, -1.00699178, -0.35794058,  0.4381488 ],\n",
       "        [ 0.49009294,  0.74115983,  0.48996515,  0.36415791],\n",
       "        [ 0.71851183, -0.70822641, -0.37668408, -0.44965164]],\n",
       "\n",
       "       [[-0.57952658,  0.31682979,  0.62162727,  0.48335836],\n",
       "        [ 0.41367   ,  0.42144786,  0.97521011, -0.02660733],\n",
       "        [ 1.04309869,  0.20245506, -0.12156436, -1.97063178]],\n",
       "\n",
       "       [[ 1.17301142, -0.27636881,  0.59369312,  0.03401677],\n",
       "        [ 0.84910489, -1.3871268 , -0.22080698,  0.7798819 ],\n",
       "        [ 0.17661915,  0.65940127, -1.24160979,  2.66786844]]])"
      ]
     },
     "execution_count": 161,
     "metadata": {},
     "output_type": "execute_result"
    }
   ],
   "source": [
    "arrays = np.zeros((5,3,4))\n",
    "for n in range(5):\n",
    "    arrays[n] = np.random.randn(3, 4)\n",
    "    \n",
    "arrays"
   ]
  },
  {
   "cell_type": "code",
   "execution_count": 162,
   "metadata": {},
   "outputs": [
    {
     "name": "stdout",
     "output_type": "stream",
     "text": [
      "[[[ 0  1  2  3]\n",
      "  [ 4  5  6  7]\n",
      "  [ 8  9 10 11]]\n",
      "\n",
      " [[12 13 14 15]\n",
      "  [16 17 18 19]\n",
      "  [20 21 22 23]]]\n",
      "--------\n",
      "[[[ 0  1  2  3]\n",
      "  [ 4  5  6  7]\n",
      "  [ 8  9 10 11]]\n",
      "\n",
      " [[12 13 14 15]\n",
      "  [16 17 18 19]\n",
      "  [20 21 22 23]]]\n",
      "(2, 3, 4)\n",
      "---axis 0-----\n",
      "[[[ 0  1  2  3]\n",
      "  [12 13 14 15]]\n",
      "\n",
      " [[ 4  5  6  7]\n",
      "  [16 17 18 19]]\n",
      "\n",
      " [[ 8  9 10 11]\n",
      "  [20 21 22 23]]]\n",
      "(3, 2, 4)\n",
      "---axis 1-----\n",
      "[[[ 0 12]\n",
      "  [ 1 13]\n",
      "  [ 2 14]\n",
      "  [ 3 15]]\n",
      "\n",
      " [[ 4 16]\n",
      "  [ 5 17]\n",
      "  [ 6 18]\n",
      "  [ 7 19]]\n",
      "\n",
      " [[ 8 20]\n",
      "  [ 9 21]\n",
      "  [10 22]\n",
      "  [11 23]]]\n",
      "(3, 4, 2)\n",
      "---axis 2-----\n"
     ]
    }
   ],
   "source": [
    "test_array = np.arange(24).reshape(2,3,4)\n",
    "stack0 = np.stack(test_array, axis=0)\n",
    "stack1 = np.stack(test_array, axis=1)\n",
    "stack2 = np.stack(test_array, axis=2)\n",
    "my_stacks = np.array([stack0.shape, stack1.shape, stack2.shape])\n",
    "print (test_array)\n",
    "print ('--------')\n",
    "print (stack0)\n",
    "print(stack0.shape)\n",
    "print ('---axis 0-----')\n",
    "\n",
    "print (stack1)\n",
    "print(stack1.shape)\n",
    "\n",
    "print ('---axis 1-----')\n",
    "\n",
    "print (stack2)\n",
    "print(stack2.shape)\n",
    "\n",
    "print ('---axis 2-----')\n",
    "\n"
   ]
  },
  {
   "cell_type": "code",
   "execution_count": 163,
   "metadata": {},
   "outputs": [],
   "source": [
    "stack0 = np.stack(arrays, axis=0)\n",
    "stack1 = np.stack(arrays, axis=1)\n",
    "stack2 = np.stack(arrays, axis=2)"
   ]
  },
  {
   "cell_type": "code",
   "execution_count": 164,
   "metadata": {},
   "outputs": [
    {
     "data": {
      "text/plain": [
       "array([[5, 3, 4],\n",
       "       [3, 5, 4],\n",
       "       [3, 4, 5]])"
      ]
     },
     "execution_count": 164,
     "metadata": {},
     "output_type": "execute_result"
    }
   ],
   "source": [
    "my_stacks = np.array([stack0.shape, stack1.shape, stack2.shape])\n",
    "my_stacks"
   ]
  },
  {
   "cell_type": "code",
   "execution_count": 165,
   "metadata": {},
   "outputs": [
    {
     "data": {
      "text/plain": [
       "array([[[ 0.20629574, -1.38424221,  0.45991419, -1.03931008],\n",
       "        [-0.42798272,  0.33497884, -0.46113162, -1.91886766],\n",
       "        [-0.33169054,  0.52519294,  0.1042941 ,  0.26980563]],\n",
       "\n",
       "       [[-0.35385861, -0.08257523,  0.17552266, -1.68294582],\n",
       "        [-0.60012355, -0.71296238, -1.66275406,  0.10302332],\n",
       "        [ 0.93668139,  1.91238578,  0.47020143,  0.87669325]],\n",
       "\n",
       "       [[-1.76481268, -1.00699178, -0.35794058,  0.4381488 ],\n",
       "        [ 0.49009294,  0.74115983,  0.48996515,  0.36415791],\n",
       "        [ 0.71851183, -0.70822641, -0.37668408, -0.44965164]],\n",
       "\n",
       "       [[-0.57952658,  0.31682979,  0.62162727,  0.48335836],\n",
       "        [ 0.41367   ,  0.42144786,  0.97521011, -0.02660733],\n",
       "        [ 1.04309869,  0.20245506, -0.12156436, -1.97063178]],\n",
       "\n",
       "       [[ 1.17301142, -0.27636881,  0.59369312,  0.03401677],\n",
       "        [ 0.84910489, -1.3871268 , -0.22080698,  0.7798819 ],\n",
       "        [ 0.17661915,  0.65940127, -1.24160979,  2.66786844]]])"
      ]
     },
     "execution_count": 165,
     "metadata": {},
     "output_type": "execute_result"
    }
   ],
   "source": [
    "stack0"
   ]
  },
  {
   "cell_type": "code",
   "execution_count": 166,
   "metadata": {},
   "outputs": [
    {
     "data": {
      "text/plain": [
       "array([[[ 0.20629574, -1.38424221,  0.45991419, -1.03931008],\n",
       "        [-0.35385861, -0.08257523,  0.17552266, -1.68294582],\n",
       "        [-1.76481268, -1.00699178, -0.35794058,  0.4381488 ],\n",
       "        [-0.57952658,  0.31682979,  0.62162727,  0.48335836],\n",
       "        [ 1.17301142, -0.27636881,  0.59369312,  0.03401677]],\n",
       "\n",
       "       [[-0.42798272,  0.33497884, -0.46113162, -1.91886766],\n",
       "        [-0.60012355, -0.71296238, -1.66275406,  0.10302332],\n",
       "        [ 0.49009294,  0.74115983,  0.48996515,  0.36415791],\n",
       "        [ 0.41367   ,  0.42144786,  0.97521011, -0.02660733],\n",
       "        [ 0.84910489, -1.3871268 , -0.22080698,  0.7798819 ]],\n",
       "\n",
       "       [[-0.33169054,  0.52519294,  0.1042941 ,  0.26980563],\n",
       "        [ 0.93668139,  1.91238578,  0.47020143,  0.87669325],\n",
       "        [ 0.71851183, -0.70822641, -0.37668408, -0.44965164],\n",
       "        [ 1.04309869,  0.20245506, -0.12156436, -1.97063178],\n",
       "        [ 0.17661915,  0.65940127, -1.24160979,  2.66786844]]])"
      ]
     },
     "execution_count": 166,
     "metadata": {},
     "output_type": "execute_result"
    }
   ],
   "source": [
    "stack1"
   ]
  },
  {
   "cell_type": "code",
   "execution_count": 167,
   "metadata": {},
   "outputs": [
    {
     "data": {
      "text/plain": [
       "array([[[ 0.20629574, -0.35385861, -1.76481268, -0.57952658,\n",
       "          1.17301142],\n",
       "        [-1.38424221, -0.08257523, -1.00699178,  0.31682979,\n",
       "         -0.27636881],\n",
       "        [ 0.45991419,  0.17552266, -0.35794058,  0.62162727,\n",
       "          0.59369312],\n",
       "        [-1.03931008, -1.68294582,  0.4381488 ,  0.48335836,\n",
       "          0.03401677]],\n",
       "\n",
       "       [[-0.42798272, -0.60012355,  0.49009294,  0.41367   ,\n",
       "          0.84910489],\n",
       "        [ 0.33497884, -0.71296238,  0.74115983,  0.42144786,\n",
       "         -1.3871268 ],\n",
       "        [-0.46113162, -1.66275406,  0.48996515,  0.97521011,\n",
       "         -0.22080698],\n",
       "        [-1.91886766,  0.10302332,  0.36415791, -0.02660733,\n",
       "          0.7798819 ]],\n",
       "\n",
       "       [[-0.33169054,  0.93668139,  0.71851183,  1.04309869,\n",
       "          0.17661915],\n",
       "        [ 0.52519294,  1.91238578, -0.70822641,  0.20245506,\n",
       "          0.65940127],\n",
       "        [ 0.1042941 ,  0.47020143, -0.37668408, -0.12156436,\n",
       "         -1.24160979],\n",
       "        [ 0.26980563,  0.87669325, -0.44965164, -1.97063178,\n",
       "          2.66786844]]])"
      ]
     },
     "execution_count": 167,
     "metadata": {},
     "output_type": "execute_result"
    }
   ],
   "source": [
    "stack2"
   ]
  },
  {
   "cell_type": "markdown",
   "metadata": {},
   "source": [
    "### split\n",
    "for information, please see: http://docs.scipy.org/doc/numpy/reference/generated/numpy.split.html"
   ]
  },
  {
   "cell_type": "code",
   "execution_count": 168,
   "metadata": {},
   "outputs": [
    {
     "data": {
      "text/plain": [
       "[array([0, 1, 2, 3, 4])]"
      ]
     },
     "execution_count": 168,
     "metadata": {},
     "output_type": "execute_result"
    }
   ],
   "source": [
    "temp = np.arange(5)\n",
    "np.split(temp,1)"
   ]
  },
  {
   "cell_type": "code",
   "execution_count": 169,
   "metadata": {},
   "outputs": [
    {
     "data": {
      "text/plain": [
       "(5, 3, 4)"
      ]
     },
     "execution_count": 169,
     "metadata": {},
     "output_type": "execute_result"
    }
   ],
   "source": [
    "before_split = stack0\n",
    "before_split.shape"
   ]
  },
  {
   "cell_type": "code",
   "execution_count": 170,
   "metadata": {},
   "outputs": [
    {
     "data": {
      "text/plain": [
       "[array([[[ 0.20629574, -1.38424221,  0.45991419, -1.03931008],\n",
       "         [-0.42798272,  0.33497884, -0.46113162, -1.91886766],\n",
       "         [-0.33169054,  0.52519294,  0.1042941 ,  0.26980563]]]),\n",
       " array([[[-0.35385861, -0.08257523,  0.17552266, -1.68294582],\n",
       "         [-0.60012355, -0.71296238, -1.66275406,  0.10302332],\n",
       "         [ 0.93668139,  1.91238578,  0.47020143,  0.87669325]]]),\n",
       " array([[[-1.76481268, -1.00699178, -0.35794058,  0.4381488 ],\n",
       "         [ 0.49009294,  0.74115983,  0.48996515,  0.36415791],\n",
       "         [ 0.71851183, -0.70822641, -0.37668408, -0.44965164]]]),\n",
       " array([[[-0.57952658,  0.31682979,  0.62162727,  0.48335836],\n",
       "         [ 0.41367   ,  0.42144786,  0.97521011, -0.02660733],\n",
       "         [ 1.04309869,  0.20245506, -0.12156436, -1.97063178]]]),\n",
       " array([[[ 1.17301142, -0.27636881,  0.59369312,  0.03401677],\n",
       "         [ 0.84910489, -1.3871268 , -0.22080698,  0.7798819 ],\n",
       "         [ 0.17661915,  0.65940127, -1.24160979,  2.66786844]]])]"
      ]
     },
     "execution_count": 170,
     "metadata": {},
     "output_type": "execute_result"
    }
   ],
   "source": [
    "s0=np.split (before_split, 5, axis=0)\n",
    "s0"
   ]
  },
  {
   "cell_type": "code",
   "execution_count": 171,
   "metadata": {},
   "outputs": [
    {
     "data": {
      "text/plain": [
       "list"
      ]
     },
     "execution_count": 171,
     "metadata": {},
     "output_type": "execute_result"
    }
   ],
   "source": [
    "type(s0)"
   ]
  },
  {
   "cell_type": "code",
   "execution_count": 172,
   "metadata": {},
   "outputs": [
    {
     "data": {
      "text/plain": [
       "array([[[-0.35385861, -0.08257523,  0.17552266, -1.68294582],\n",
       "        [-0.60012355, -0.71296238, -1.66275406,  0.10302332],\n",
       "        [ 0.93668139,  1.91238578,  0.47020143,  0.87669325]]])"
      ]
     },
     "execution_count": 172,
     "metadata": {},
     "output_type": "execute_result"
    }
   ],
   "source": [
    "s0[1]"
   ]
  },
  {
   "cell_type": "code",
   "execution_count": 173,
   "metadata": {},
   "outputs": [
    {
     "data": {
      "text/plain": [
       "(1, 3, 4)"
      ]
     },
     "execution_count": 173,
     "metadata": {},
     "output_type": "execute_result"
    }
   ],
   "source": [
    "s0[1].shape"
   ]
  },
  {
   "cell_type": "code",
   "execution_count": 174,
   "metadata": {},
   "outputs": [
    {
     "data": {
      "text/plain": [
       "[array([[[ 0.20629574, -1.38424221,  0.45991419, -1.03931008]],\n",
       " \n",
       "        [[-0.35385861, -0.08257523,  0.17552266, -1.68294582]],\n",
       " \n",
       "        [[-1.76481268, -1.00699178, -0.35794058,  0.4381488 ]],\n",
       " \n",
       "        [[-0.57952658,  0.31682979,  0.62162727,  0.48335836]],\n",
       " \n",
       "        [[ 1.17301142, -0.27636881,  0.59369312,  0.03401677]]]),\n",
       " array([[[-0.42798272,  0.33497884, -0.46113162, -1.91886766]],\n",
       " \n",
       "        [[-0.60012355, -0.71296238, -1.66275406,  0.10302332]],\n",
       " \n",
       "        [[ 0.49009294,  0.74115983,  0.48996515,  0.36415791]],\n",
       " \n",
       "        [[ 0.41367   ,  0.42144786,  0.97521011, -0.02660733]],\n",
       " \n",
       "        [[ 0.84910489, -1.3871268 , -0.22080698,  0.7798819 ]]]),\n",
       " array([[[-0.33169054,  0.52519294,  0.1042941 ,  0.26980563]],\n",
       " \n",
       "        [[ 0.93668139,  1.91238578,  0.47020143,  0.87669325]],\n",
       " \n",
       "        [[ 0.71851183, -0.70822641, -0.37668408, -0.44965164]],\n",
       " \n",
       "        [[ 1.04309869,  0.20245506, -0.12156436, -1.97063178]],\n",
       " \n",
       "        [[ 0.17661915,  0.65940127, -1.24160979,  2.66786844]]])]"
      ]
     },
     "execution_count": 174,
     "metadata": {},
     "output_type": "execute_result"
    }
   ],
   "source": [
    "s1=np.split (before_split, 3, axis=1)\n",
    "s1"
   ]
  },
  {
   "cell_type": "code",
   "execution_count": 175,
   "metadata": {},
   "outputs": [
    {
     "data": {
      "text/plain": [
       "[array([[[ 0.20629574],\n",
       "         [-0.42798272],\n",
       "         [-0.33169054]],\n",
       " \n",
       "        [[-0.35385861],\n",
       "         [-0.60012355],\n",
       "         [ 0.93668139]],\n",
       " \n",
       "        [[-1.76481268],\n",
       "         [ 0.49009294],\n",
       "         [ 0.71851183]],\n",
       " \n",
       "        [[-0.57952658],\n",
       "         [ 0.41367   ],\n",
       "         [ 1.04309869]],\n",
       " \n",
       "        [[ 1.17301142],\n",
       "         [ 0.84910489],\n",
       "         [ 0.17661915]]]), array([[[-1.38424221],\n",
       "         [ 0.33497884],\n",
       "         [ 0.52519294]],\n",
       " \n",
       "        [[-0.08257523],\n",
       "         [-0.71296238],\n",
       "         [ 1.91238578]],\n",
       " \n",
       "        [[-1.00699178],\n",
       "         [ 0.74115983],\n",
       "         [-0.70822641]],\n",
       " \n",
       "        [[ 0.31682979],\n",
       "         [ 0.42144786],\n",
       "         [ 0.20245506]],\n",
       " \n",
       "        [[-0.27636881],\n",
       "         [-1.3871268 ],\n",
       "         [ 0.65940127]]]), array([[[ 0.45991419],\n",
       "         [-0.46113162],\n",
       "         [ 0.1042941 ]],\n",
       " \n",
       "        [[ 0.17552266],\n",
       "         [-1.66275406],\n",
       "         [ 0.47020143]],\n",
       " \n",
       "        [[-0.35794058],\n",
       "         [ 0.48996515],\n",
       "         [-0.37668408]],\n",
       " \n",
       "        [[ 0.62162727],\n",
       "         [ 0.97521011],\n",
       "         [-0.12156436]],\n",
       " \n",
       "        [[ 0.59369312],\n",
       "         [-0.22080698],\n",
       "         [-1.24160979]]]), array([[[-1.03931008],\n",
       "         [-1.91886766],\n",
       "         [ 0.26980563]],\n",
       " \n",
       "        [[-1.68294582],\n",
       "         [ 0.10302332],\n",
       "         [ 0.87669325]],\n",
       " \n",
       "        [[ 0.4381488 ],\n",
       "         [ 0.36415791],\n",
       "         [-0.44965164]],\n",
       " \n",
       "        [[ 0.48335836],\n",
       "         [-0.02660733],\n",
       "         [-1.97063178]],\n",
       " \n",
       "        [[ 0.03401677],\n",
       "         [ 0.7798819 ],\n",
       "         [ 2.66786844]]])]"
      ]
     },
     "execution_count": 175,
     "metadata": {},
     "output_type": "execute_result"
    }
   ],
   "source": [
    "s2=np.split (before_split, 4, axis=2)\n",
    "s2"
   ]
  }
 ],
 "metadata": {
  "anaconda-cloud": {},
  "kernelspec": {
   "display_name": "Python 3",
   "language": "python",
   "name": "python3"
  },
  "language_info": {
   "codemirror_mode": {
    "name": "ipython",
    "version": 3
   },
   "file_extension": ".py",
   "mimetype": "text/x-python",
   "name": "python",
   "nbconvert_exporter": "python",
   "pygments_lexer": "ipython3",
   "version": "3.6.5"
  }
 },
 "nbformat": 4,
 "nbformat_minor": 1
}
